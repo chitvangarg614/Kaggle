{
 "cells": [
  {
   "cell_type": "code",
   "execution_count": 1,
   "metadata": {},
   "outputs": [],
   "source": [
    "import pandas as pd\n",
    "import numpy as np"
   ]
  },
  {
   "cell_type": "code",
   "execution_count": 2,
   "metadata": {},
   "outputs": [
    {
     "name": "stderr",
     "output_type": "stream",
     "text": [
      "C:\\Users\\chitv\\anaconda3\\lib\\site-packages\\IPython\\core\\interactiveshell.py:3071: DtypeWarning: Columns (11,14,15,22,23) have mixed types.Specify dtype option on import or set low_memory=False.\n",
      "  has_raised = await self.run_ast_nodes(code_ast.body, cell_name,\n"
     ]
    }
   ],
   "source": [
    "df= pd.read_csv(r'C:\\Users\\chitv\\Desktop\\kaggle\\Asteroid.csv\\Asteroid.csv')"
   ]
  },
  {
   "cell_type": "code",
   "execution_count": 3,
   "metadata": {},
   "outputs": [
    {
     "data": {
      "text/html": [
       "<div>\n",
       "<style scoped>\n",
       "    .dataframe tbody tr th:only-of-type {\n",
       "        vertical-align: middle;\n",
       "    }\n",
       "\n",
       "    .dataframe tbody tr th {\n",
       "        vertical-align: top;\n",
       "    }\n",
       "\n",
       "    .dataframe thead th {\n",
       "        text-align: right;\n",
       "    }\n",
       "</style>\n",
       "<table border=\"1\" class=\"dataframe\">\n",
       "  <thead>\n",
       "    <tr style=\"text-align: right;\">\n",
       "      <th></th>\n",
       "      <th>full_name</th>\n",
       "      <th>a</th>\n",
       "      <th>e</th>\n",
       "      <th>G</th>\n",
       "      <th>i</th>\n",
       "      <th>om</th>\n",
       "      <th>w</th>\n",
       "      <th>q</th>\n",
       "      <th>ad</th>\n",
       "      <th>per_y</th>\n",
       "      <th>...</th>\n",
       "      <th>rot_per</th>\n",
       "      <th>GM</th>\n",
       "      <th>BV</th>\n",
       "      <th>UB</th>\n",
       "      <th>IR</th>\n",
       "      <th>spec_B</th>\n",
       "      <th>spec_T</th>\n",
       "      <th>neo</th>\n",
       "      <th>pha</th>\n",
       "      <th>moid</th>\n",
       "    </tr>\n",
       "  </thead>\n",
       "  <tbody>\n",
       "    <tr>\n",
       "      <th>0</th>\n",
       "      <td>1 Ceres</td>\n",
       "      <td>2.769165</td>\n",
       "      <td>0.076009</td>\n",
       "      <td>0.12</td>\n",
       "      <td>10.594067</td>\n",
       "      <td>80.305532</td>\n",
       "      <td>73.597694</td>\n",
       "      <td>2.558684</td>\n",
       "      <td>2.979647</td>\n",
       "      <td>4.608202</td>\n",
       "      <td>...</td>\n",
       "      <td>9.074170</td>\n",
       "      <td>62.6284</td>\n",
       "      <td>0.713</td>\n",
       "      <td>0.426</td>\n",
       "      <td>NaN</td>\n",
       "      <td>C</td>\n",
       "      <td>G</td>\n",
       "      <td>N</td>\n",
       "      <td>N</td>\n",
       "      <td>1.59478</td>\n",
       "    </tr>\n",
       "    <tr>\n",
       "      <th>1</th>\n",
       "      <td>2 Pallas</td>\n",
       "      <td>2.772466</td>\n",
       "      <td>0.230337</td>\n",
       "      <td>0.11</td>\n",
       "      <td>34.836234</td>\n",
       "      <td>173.080063</td>\n",
       "      <td>310.048857</td>\n",
       "      <td>2.133865</td>\n",
       "      <td>3.411067</td>\n",
       "      <td>4.616444</td>\n",
       "      <td>...</td>\n",
       "      <td>7.813200</td>\n",
       "      <td>14.3000</td>\n",
       "      <td>0.635</td>\n",
       "      <td>0.284</td>\n",
       "      <td>NaN</td>\n",
       "      <td>B</td>\n",
       "      <td>B</td>\n",
       "      <td>N</td>\n",
       "      <td>N</td>\n",
       "      <td>1.23324</td>\n",
       "    </tr>\n",
       "    <tr>\n",
       "      <th>2</th>\n",
       "      <td>3 Juno</td>\n",
       "      <td>2.669150</td>\n",
       "      <td>0.256942</td>\n",
       "      <td>0.32</td>\n",
       "      <td>12.988919</td>\n",
       "      <td>169.852760</td>\n",
       "      <td>248.138626</td>\n",
       "      <td>1.983332</td>\n",
       "      <td>3.354967</td>\n",
       "      <td>4.360814</td>\n",
       "      <td>...</td>\n",
       "      <td>7.210000</td>\n",
       "      <td>NaN</td>\n",
       "      <td>0.824</td>\n",
       "      <td>0.433</td>\n",
       "      <td>NaN</td>\n",
       "      <td>Sk</td>\n",
       "      <td>S</td>\n",
       "      <td>N</td>\n",
       "      <td>N</td>\n",
       "      <td>1.03454</td>\n",
       "    </tr>\n",
       "    <tr>\n",
       "      <th>3</th>\n",
       "      <td>4 Vesta</td>\n",
       "      <td>2.361418</td>\n",
       "      <td>0.088721</td>\n",
       "      <td>0.32</td>\n",
       "      <td>7.141771</td>\n",
       "      <td>103.810804</td>\n",
       "      <td>150.728541</td>\n",
       "      <td>2.151909</td>\n",
       "      <td>2.570926</td>\n",
       "      <td>3.628837</td>\n",
       "      <td>...</td>\n",
       "      <td>5.342128</td>\n",
       "      <td>17.8000</td>\n",
       "      <td>0.782</td>\n",
       "      <td>0.492</td>\n",
       "      <td>NaN</td>\n",
       "      <td>V</td>\n",
       "      <td>V</td>\n",
       "      <td>N</td>\n",
       "      <td>N</td>\n",
       "      <td>1.13948</td>\n",
       "    </tr>\n",
       "    <tr>\n",
       "      <th>4</th>\n",
       "      <td>5 Astraea</td>\n",
       "      <td>2.574249</td>\n",
       "      <td>0.191095</td>\n",
       "      <td>NaN</td>\n",
       "      <td>5.366988</td>\n",
       "      <td>141.576604</td>\n",
       "      <td>358.687608</td>\n",
       "      <td>2.082324</td>\n",
       "      <td>3.066174</td>\n",
       "      <td>4.130323</td>\n",
       "      <td>...</td>\n",
       "      <td>16.806000</td>\n",
       "      <td>NaN</td>\n",
       "      <td>0.826</td>\n",
       "      <td>0.411</td>\n",
       "      <td>NaN</td>\n",
       "      <td>S</td>\n",
       "      <td>S</td>\n",
       "      <td>N</td>\n",
       "      <td>N</td>\n",
       "      <td>1.09589</td>\n",
       "    </tr>\n",
       "  </tbody>\n",
       "</table>\n",
       "<p>5 rows × 27 columns</p>\n",
       "</div>"
      ],
      "text/plain": [
       "        full_name         a         e     G          i          om  \\\n",
       "0         1 Ceres  2.769165  0.076009  0.12  10.594067   80.305532   \n",
       "1        2 Pallas  2.772466  0.230337  0.11  34.836234  173.080063   \n",
       "2          3 Juno  2.669150  0.256942  0.32  12.988919  169.852760   \n",
       "3         4 Vesta  2.361418  0.088721  0.32   7.141771  103.810804   \n",
       "4       5 Astraea  2.574249  0.191095   NaN   5.366988  141.576604   \n",
       "\n",
       "            w         q        ad     per_y  ...    rot_per       GM     BV  \\\n",
       "0   73.597694  2.558684  2.979647  4.608202  ...   9.074170  62.6284  0.713   \n",
       "1  310.048857  2.133865  3.411067  4.616444  ...   7.813200  14.3000  0.635   \n",
       "2  248.138626  1.983332  3.354967  4.360814  ...   7.210000      NaN  0.824   \n",
       "3  150.728541  2.151909  2.570926  3.628837  ...   5.342128  17.8000  0.782   \n",
       "4  358.687608  2.082324  3.066174  4.130323  ...  16.806000      NaN  0.826   \n",
       "\n",
       "      UB  IR spec_B  spec_T  neo  pha     moid  \n",
       "0  0.426 NaN      C       G    N    N  1.59478  \n",
       "1  0.284 NaN      B       B    N    N  1.23324  \n",
       "2  0.433 NaN     Sk       S    N    N  1.03454  \n",
       "3  0.492 NaN      V       V    N    N  1.13948  \n",
       "4  0.411 NaN      S       S    N    N  1.09589  \n",
       "\n",
       "[5 rows x 27 columns]"
      ]
     },
     "execution_count": 3,
     "metadata": {},
     "output_type": "execute_result"
    }
   ],
   "source": [
    "df.head()"
   ]
  },
  {
   "cell_type": "code",
   "execution_count": 4,
   "metadata": {},
   "outputs": [
    {
     "data": {
      "text/plain": [
       "full_name              0\n",
       "a                      2\n",
       "e                      0\n",
       "G                 839617\n",
       "i                      0\n",
       "om                     0\n",
       "w                      0\n",
       "q                      0\n",
       "ad                     6\n",
       "per_y                  1\n",
       "data_arc           15789\n",
       "condition_code       993\n",
       "n_obs_used             0\n",
       "H                   2694\n",
       "diameter          702055\n",
       "extent            839718\n",
       "albedo            703284\n",
       "rot_per           820940\n",
       "GM                839722\n",
       "BV                838715\n",
       "UB                838757\n",
       "IR                839735\n",
       "spec_B            838070\n",
       "spec_T            838756\n",
       "neo                    6\n",
       "pha                16922\n",
       "moid               16922\n",
       "dtype: int64"
      ]
     },
     "execution_count": 4,
     "metadata": {},
     "output_type": "execute_result"
    }
   ],
   "source": [
    "df.isna().sum()"
   ]
  },
  {
   "cell_type": "code",
   "execution_count": 5,
   "metadata": {},
   "outputs": [
    {
     "data": {
      "text/plain": [
       "(839736, 27)"
      ]
     },
     "execution_count": 5,
     "metadata": {},
     "output_type": "execute_result"
    }
   ],
   "source": [
    "df.shape"
   ]
  },
  {
   "cell_type": "code",
   "execution_count": 6,
   "metadata": {},
   "outputs": [
    {
     "name": "stdout",
     "output_type": "stream",
     "text": [
      "<class 'pandas.core.frame.DataFrame'>\n",
      "RangeIndex: 839736 entries, 0 to 839735\n",
      "Data columns (total 27 columns):\n",
      " #   Column          Non-Null Count   Dtype  \n",
      "---  ------          --------------   -----  \n",
      " 0   full_name       839736 non-null  object \n",
      " 1   a               839734 non-null  float64\n",
      " 2   e               839736 non-null  float64\n",
      " 3   G               119 non-null     float64\n",
      " 4   i               839736 non-null  float64\n",
      " 5   om              839736 non-null  float64\n",
      " 6   w               839736 non-null  float64\n",
      " 7   q               839736 non-null  float64\n",
      " 8   ad              839730 non-null  float64\n",
      " 9   per_y           839735 non-null  float64\n",
      " 10  data_arc        823947 non-null  float64\n",
      " 11  condition_code  838743 non-null  object \n",
      " 12  n_obs_used      839736 non-null  int64  \n",
      " 13  H               837042 non-null  float64\n",
      " 14  diameter        137681 non-null  object \n",
      " 15  extent          18 non-null      object \n",
      " 16  albedo          136452 non-null  float64\n",
      " 17  rot_per         18796 non-null   float64\n",
      " 18  GM              14 non-null      float64\n",
      " 19  BV              1021 non-null    float64\n",
      " 20  UB              979 non-null     float64\n",
      " 21  IR              1 non-null       float64\n",
      " 22  spec_B          1666 non-null    object \n",
      " 23  spec_T          980 non-null     object \n",
      " 24  neo             839730 non-null  object \n",
      " 25  pha             822814 non-null  object \n",
      " 26  moid            822814 non-null  float64\n",
      "dtypes: float64(18), int64(1), object(8)\n",
      "memory usage: 173.0+ MB\n"
     ]
    }
   ],
   "source": [
    "df.info()"
   ]
  },
  {
   "cell_type": "code",
   "execution_count": 7,
   "metadata": {},
   "outputs": [],
   "source": [
    "num_cols= ['G', 'data_arc','H','albedo','rot_per','GM','BV','UB','IR','moid']"
   ]
  },
  {
   "cell_type": "code",
   "execution_count": 8,
   "metadata": {},
   "outputs": [
    {
     "data": {
      "text/plain": [
       "Index(['full_name', 'a', 'e', 'G', 'i', 'om', 'w', 'q', 'ad', 'per_y',\n",
       "       'data_arc', 'condition_code', 'n_obs_used', 'H', 'diameter', 'extent',\n",
       "       'albedo', 'rot_per', 'GM', 'BV', 'UB', 'IR', 'spec_B', 'spec_T', 'neo',\n",
       "       'pha', 'moid'],\n",
       "      dtype='object')"
      ]
     },
     "execution_count": 8,
     "metadata": {},
     "output_type": "execute_result"
    }
   ],
   "source": [
    "df.columns"
   ]
  },
  {
   "cell_type": "code",
   "execution_count": 9,
   "metadata": {},
   "outputs": [],
   "source": [
    "for i in num_cols:\n",
    "     df[i].fillna(df[i].mean(), inplace=True)\n",
    "    "
   ]
  },
  {
   "cell_type": "code",
   "execution_count": 10,
   "metadata": {},
   "outputs": [
    {
     "data": {
      "text/plain": [
       "full_name              0\n",
       "a                      2\n",
       "e                      0\n",
       "G                      0\n",
       "i                      0\n",
       "om                     0\n",
       "w                      0\n",
       "q                      0\n",
       "ad                     6\n",
       "per_y                  1\n",
       "data_arc               0\n",
       "condition_code       993\n",
       "n_obs_used             0\n",
       "H                      0\n",
       "diameter          702055\n",
       "extent            839718\n",
       "albedo                 0\n",
       "rot_per                0\n",
       "GM                     0\n",
       "BV                     0\n",
       "UB                     0\n",
       "IR                     0\n",
       "spec_B            838070\n",
       "spec_T            838756\n",
       "neo                    6\n",
       "pha                16922\n",
       "moid                   0\n",
       "dtype: int64"
      ]
     },
     "execution_count": 10,
     "metadata": {},
     "output_type": "execute_result"
    }
   ],
   "source": [
    "df.isnull().sum()"
   ]
  },
  {
   "cell_type": "code",
   "execution_count": 11,
   "metadata": {},
   "outputs": [
    {
     "data": {
      "text/plain": [
       "full_name              0\n",
       "a                      2\n",
       "e                      0\n",
       "G                      0\n",
       "i                      0\n",
       "om                     0\n",
       "w                      0\n",
       "q                      0\n",
       "ad                     6\n",
       "per_y                  1\n",
       "data_arc               0\n",
       "condition_code       993\n",
       "n_obs_used             0\n",
       "H                      0\n",
       "diameter          702055\n",
       "extent            839718\n",
       "albedo                 0\n",
       "rot_per                0\n",
       "GM                     0\n",
       "BV                     0\n",
       "UB                     0\n",
       "IR                     0\n",
       "spec_B            838070\n",
       "spec_T            838756\n",
       "neo                    6\n",
       "pha                16922\n",
       "moid                   0\n",
       "dtype: int64"
      ]
     },
     "execution_count": 11,
     "metadata": {},
     "output_type": "execute_result"
    }
   ],
   "source": [
    "df.isna().sum()"
   ]
  },
  {
   "cell_type": "code",
   "execution_count": 12,
   "metadata": {},
   "outputs": [],
   "source": [
    "df.drop('extent',axis=1,inplace=True)"
   ]
  },
  {
   "cell_type": "code",
   "execution_count": 13,
   "metadata": {},
   "outputs": [],
   "source": [
    "df['neo']=df['neo'].fillna('Null', inplace=True)\n",
    "df['pha']=df['pha'].fillna('Null', inplace=True)"
   ]
  },
  {
   "cell_type": "code",
   "execution_count": 14,
   "metadata": {},
   "outputs": [],
   "source": [
    "df['condition_code'].fillna(0,inplace=True)"
   ]
  },
  {
   "cell_type": "code",
   "execution_count": 15,
   "metadata": {},
   "outputs": [],
   "source": [
    "df['spec_B'].fillna('Null',inplace=True)\n",
    "df['spec_T'].fillna('Null',inplace=True)"
   ]
  },
  {
   "cell_type": "code",
   "execution_count": 16,
   "metadata": {},
   "outputs": [],
   "source": [
    "df.dropna(subset=[\"diameter\"], inplace=True)"
   ]
  },
  {
   "cell_type": "code",
   "execution_count": 17,
   "metadata": {},
   "outputs": [
    {
     "data": {
      "text/plain": [
       "full_name              0\n",
       "a                      0\n",
       "e                      0\n",
       "G                      0\n",
       "i                      0\n",
       "om                     0\n",
       "w                      0\n",
       "q                      0\n",
       "ad                     0\n",
       "per_y                  0\n",
       "data_arc               0\n",
       "condition_code         0\n",
       "n_obs_used             0\n",
       "H                      0\n",
       "diameter               0\n",
       "albedo                 0\n",
       "rot_per                0\n",
       "GM                     0\n",
       "BV                     0\n",
       "UB                     0\n",
       "IR                     0\n",
       "spec_B                 0\n",
       "spec_T                 0\n",
       "neo               137681\n",
       "pha               137681\n",
       "moid                   0\n",
       "dtype: int64"
      ]
     },
     "execution_count": 17,
     "metadata": {},
     "output_type": "execute_result"
    }
   ],
   "source": [
    "df.isna().sum()"
   ]
  },
  {
   "cell_type": "code",
   "execution_count": 18,
   "metadata": {},
   "outputs": [
    {
     "data": {
      "text/plain": [
       "full_name              0\n",
       "a                      0\n",
       "e                      0\n",
       "G                      0\n",
       "i                      0\n",
       "om                     0\n",
       "w                      0\n",
       "q                      0\n",
       "ad                     0\n",
       "per_y                  0\n",
       "data_arc               0\n",
       "condition_code         0\n",
       "n_obs_used             0\n",
       "H                      0\n",
       "diameter               0\n",
       "albedo                 0\n",
       "rot_per                0\n",
       "GM                     0\n",
       "BV                     0\n",
       "UB                     0\n",
       "IR                     0\n",
       "spec_B                 0\n",
       "spec_T                 0\n",
       "neo               137681\n",
       "pha               137681\n",
       "moid                   0\n",
       "dtype: int64"
      ]
     },
     "execution_count": 18,
     "metadata": {},
     "output_type": "execute_result"
    }
   ],
   "source": [
    "df.isna().sum()"
   ]
  },
  {
   "cell_type": "code",
   "execution_count": 19,
   "metadata": {},
   "outputs": [
    {
     "name": "stdout",
     "output_type": "stream",
     "text": [
      "<class 'pandas.core.frame.DataFrame'>\n",
      "Int64Index: 137681 entries, 0 to 810411\n",
      "Data columns (total 26 columns):\n",
      " #   Column          Non-Null Count   Dtype  \n",
      "---  ------          --------------   -----  \n",
      " 0   full_name       137681 non-null  object \n",
      " 1   a               137681 non-null  float64\n",
      " 2   e               137681 non-null  float64\n",
      " 3   G               137681 non-null  float64\n",
      " 4   i               137681 non-null  float64\n",
      " 5   om              137681 non-null  float64\n",
      " 6   w               137681 non-null  float64\n",
      " 7   q               137681 non-null  float64\n",
      " 8   ad              137681 non-null  float64\n",
      " 9   per_y           137681 non-null  float64\n",
      " 10  data_arc        137681 non-null  float64\n",
      " 11  condition_code  137681 non-null  object \n",
      " 12  n_obs_used      137681 non-null  int64  \n",
      " 13  H               137681 non-null  float64\n",
      " 14  diameter        137681 non-null  object \n",
      " 15  albedo          137681 non-null  float64\n",
      " 16  rot_per         137681 non-null  float64\n",
      " 17  GM              137681 non-null  float64\n",
      " 18  BV              137681 non-null  float64\n",
      " 19  UB              137681 non-null  float64\n",
      " 20  IR              137681 non-null  float64\n",
      " 21  spec_B          137681 non-null  object \n",
      " 22  spec_T          137681 non-null  object \n",
      " 23  neo             0 non-null       object \n",
      " 24  pha             0 non-null       object \n",
      " 25  moid            137681 non-null  float64\n",
      "dtypes: float64(18), int64(1), object(7)\n",
      "memory usage: 28.4+ MB\n"
     ]
    }
   ],
   "source": [
    "df.info()"
   ]
  },
  {
   "cell_type": "code",
   "execution_count": 20,
   "metadata": {},
   "outputs": [
    {
     "data": {
      "text/plain": [
       "0         0\n",
       "1         0\n",
       "2         0\n",
       "3         0\n",
       "4         0\n",
       "         ..\n",
       "797896    1\n",
       "798113    2\n",
       "798225    1\n",
       "799788    2\n",
       "810411    3\n",
       "Name: condition_code, Length: 137681, dtype: int64"
      ]
     },
     "execution_count": 20,
     "metadata": {},
     "output_type": "execute_result"
    }
   ],
   "source": [
    "df['condition_code'].astype('int64')"
   ]
  },
  {
   "cell_type": "code",
   "execution_count": 21,
   "metadata": {},
   "outputs": [
    {
     "data": {
      "text/plain": [
       " 54550 (2000 QA87)    1\n",
       "261822 (2006 CT48)    1\n",
       " 40260 (1999 CU98)    1\n",
       "       (2014 AA53)    1\n",
       "400535 (2008 UV93)    1\n",
       "                     ..\n",
       "238539 (2004 VD19)    1\n",
       "       (2010 NA17)    1\n",
       "111908 (2002 FY33)    1\n",
       "126976 (2002 FA24)    1\n",
       " 33601 (1999 JO51)    1\n",
       "Name: full_name, Length: 137681, dtype: int64"
      ]
     },
     "execution_count": 21,
     "metadata": {},
     "output_type": "execute_result"
    }
   ],
   "source": [
    "df.full_name.value_counts()"
   ]
  },
  {
   "cell_type": "code",
   "execution_count": 22,
   "metadata": {},
   "outputs": [],
   "source": [
    "from sklearn import preprocessing\n",
    "le = preprocessing.LabelEncoder()\n",
    "\n",
    "str_col=['full_name','neo','pha','spec_B','spec_T']\n",
    "df[str_col]=df[str_col].apply(le.fit_transform)"
   ]
  },
  {
   "cell_type": "code",
   "execution_count": 23,
   "metadata": {},
   "outputs": [
    {
     "name": "stdout",
     "output_type": "stream",
     "text": [
      "<class 'pandas.core.frame.DataFrame'>\n",
      "Int64Index: 137681 entries, 0 to 810411\n",
      "Data columns (total 26 columns):\n",
      " #   Column          Non-Null Count   Dtype  \n",
      "---  ------          --------------   -----  \n",
      " 0   full_name       137681 non-null  int32  \n",
      " 1   a               137681 non-null  float64\n",
      " 2   e               137681 non-null  float64\n",
      " 3   G               137681 non-null  float64\n",
      " 4   i               137681 non-null  float64\n",
      " 5   om              137681 non-null  float64\n",
      " 6   w               137681 non-null  float64\n",
      " 7   q               137681 non-null  float64\n",
      " 8   ad              137681 non-null  float64\n",
      " 9   per_y           137681 non-null  float64\n",
      " 10  data_arc        137681 non-null  float64\n",
      " 11  condition_code  137681 non-null  object \n",
      " 12  n_obs_used      137681 non-null  int64  \n",
      " 13  H               137681 non-null  float64\n",
      " 14  diameter        137681 non-null  object \n",
      " 15  albedo          137681 non-null  float64\n",
      " 16  rot_per         137681 non-null  float64\n",
      " 17  GM              137681 non-null  float64\n",
      " 18  BV              137681 non-null  float64\n",
      " 19  UB              137681 non-null  float64\n",
      " 20  IR              137681 non-null  float64\n",
      " 21  spec_B          137681 non-null  int32  \n",
      " 22  spec_T          137681 non-null  int32  \n",
      " 23  neo             137681 non-null  int32  \n",
      " 24  pha             137681 non-null  int32  \n",
      " 25  moid            137681 non-null  float64\n",
      "dtypes: float64(18), int32(5), int64(1), object(2)\n",
      "memory usage: 25.7+ MB\n"
     ]
    }
   ],
   "source": [
    "df.info()"
   ]
  },
  {
   "cell_type": "code",
   "execution_count": 24,
   "metadata": {},
   "outputs": [],
   "source": [
    "df.dropna(axis=1, inplace=True)"
   ]
  },
  {
   "cell_type": "code",
   "execution_count": 25,
   "metadata": {},
   "outputs": [
    {
     "data": {
      "text/plain": [
       "Index(['full_name', 'a', 'e', 'G', 'i', 'om', 'w', 'q', 'ad', 'per_y',\n",
       "       'data_arc', 'condition_code', 'n_obs_used', 'H', 'diameter', 'albedo',\n",
       "       'rot_per', 'GM', 'BV', 'UB', 'IR', 'spec_B', 'spec_T', 'neo', 'pha',\n",
       "       'moid'],\n",
       "      dtype='object')"
      ]
     },
     "execution_count": 25,
     "metadata": {},
     "output_type": "execute_result"
    }
   ],
   "source": [
    "df.columns"
   ]
  },
  {
   "cell_type": "code",
   "execution_count": 26,
   "metadata": {},
   "outputs": [],
   "source": [
    "X= df.drop('diameter', axis=1)\n",
    "y=df['diameter']"
   ]
  },
  {
   "cell_type": "code",
   "execution_count": 27,
   "metadata": {},
   "outputs": [
    {
     "data": {
      "text/plain": [
       "((137681, 25), (137681,))"
      ]
     },
     "execution_count": 27,
     "metadata": {},
     "output_type": "execute_result"
    }
   ],
   "source": [
    "X.shape, y.shape"
   ]
  },
  {
   "cell_type": "code",
   "execution_count": 28,
   "metadata": {},
   "outputs": [],
   "source": [
    "from sklearn.model_selection import train_test_split\n",
    "X_train,X_test,y_train,y_test= train_test_split(X,y,test_size=0.25,random_state=1)"
   ]
  },
  {
   "cell_type": "code",
   "execution_count": 29,
   "metadata": {},
   "outputs": [
    {
     "data": {
      "text/plain": [
       "((103260, 25), (103260,))"
      ]
     },
     "execution_count": 29,
     "metadata": {},
     "output_type": "execute_result"
    }
   ],
   "source": [
    "X_train.shape , y_train.shape"
   ]
  },
  {
   "cell_type": "code",
   "execution_count": 30,
   "metadata": {},
   "outputs": [
    {
     "data": {
      "text/plain": [
       "0.5371809842263741"
      ]
     },
     "execution_count": 30,
     "metadata": {},
     "output_type": "execute_result"
    }
   ],
   "source": [
    "from sklearn.linear_model import Ridge\n",
    "ridge= Ridge(alpha=1.0)\n",
    "ridge.fit(X_train, y_train)\n",
    "y_pred1= ridge.predict(X_test)\n",
    "\n",
    "from sklearn.metrics import r2_score\n",
    "r2_score(y_test, y_pred1)"
   ]
  },
  {
   "cell_type": "code",
   "execution_count": 31,
   "metadata": {},
   "outputs": [
    {
     "data": {
      "text/plain": [
       "0.4930714147225861"
      ]
     },
     "execution_count": 31,
     "metadata": {},
     "output_type": "execute_result"
    }
   ],
   "source": [
    "from sklearn.linear_model import Lasso\n",
    "lasso = Lasso()\n",
    "lasso.fit(X_train, y_train)\n",
    "y_pred2= lasso.predict(X_test)\n",
    "r2_score(y_test, y_pred2)"
   ]
  },
  {
   "cell_type": "code",
   "execution_count": 32,
   "metadata": {},
   "outputs": [
    {
     "data": {
      "text/plain": [
       "0.5367548730361655"
      ]
     },
     "execution_count": 32,
     "metadata": {},
     "output_type": "execute_result"
    }
   ],
   "source": [
    "from sklearn.linear_model import LinearRegression\n",
    "linear=LinearRegression()\n",
    "linear.fit(X_train,y_train)\n",
    "\n",
    "\n",
    "y_linear=linear.predict(X_test)\n",
    "r2_score(y_test,y_linear)"
   ]
  },
  {
   "cell_type": "code",
   "execution_count": 33,
   "metadata": {},
   "outputs": [
    {
     "data": {
      "text/plain": [
       "0.9791139588626068"
      ]
     },
     "execution_count": 33,
     "metadata": {},
     "output_type": "execute_result"
    }
   ],
   "source": [
    "from sklearn.ensemble import RandomForestRegressor\n",
    "forest=RandomForestRegressor(n_jobs=2)\n",
    "forest.fit(X_train,y_train)\n",
    "y_pred4= forest.predict(X_test)\n",
    "r2_score(y_test, y_pred4)"
   ]
  },
  {
   "cell_type": "code",
   "execution_count": null,
   "metadata": {},
   "outputs": [],
   "source": []
  }
 ],
 "metadata": {
  "kernelspec": {
   "display_name": "Python 3",
   "language": "python",
   "name": "python3"
  },
  "language_info": {
   "codemirror_mode": {
    "name": "ipython",
    "version": 3
   },
   "file_extension": ".py",
   "mimetype": "text/x-python",
   "name": "python",
   "nbconvert_exporter": "python",
   "pygments_lexer": "ipython3",
   "version": "3.8.3"
  }
 },
 "nbformat": 4,
 "nbformat_minor": 4
}
